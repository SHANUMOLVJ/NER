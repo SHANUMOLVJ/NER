{
  "cells": [
    {
      "cell_type": "markdown",
      "metadata": {
        "id": "view-in-github",
        "colab_type": "text"
      },
      "source": [
        "<a href=\"https://colab.research.google.com/github/SHANUMOLVJ/NER/blob/main/NER.ipynb\" target=\"_parent\"><img src=\"https://colab.research.google.com/assets/colab-badge.svg\" alt=\"Open In Colab\"/></a>"
      ]
    },
    {
      "cell_type": "code",
      "execution_count": null,
      "id": "9bac1ce6-e09c-409b-aa67-a70db3ed4596",
      "metadata": {
        "colab": {
          "base_uri": "https://localhost:8080/"
        },
        "id": "9bac1ce6-e09c-409b-aa67-a70db3ed4596",
        "outputId": "66440432-bc81-4bfb-f683-13016fd96dd8"
      },
      "outputs": [
        {
          "output_type": "stream",
          "name": "stdout",
          "text": [
            "Fetched Article:\n",
            " This Ancient Technology Is Helping Millions Stay Cool. Cheap, low-energy evaporative cooling devices are keeping water, food, people, and even whole buildings cool across India.\n"
          ]
        }
      ],
      "source": [
        "import requests\n",
        "\n",
        "def fetch_news_article(api_key, query):\n",
        "    url = f\"https://newsapi.org/v2/everything?q={query}&apiKey={api_key}\"\n",
        "    response = requests.get(url)\n",
        "    data = response.json()\n",
        "    if data[\"status\"] == \"ok\" and data[\"totalResults\"] > 0:\n",
        "        return data[\"articles\"][0][\"title\"] + \". \" + data[\"articles\"][0][\"description\"]\n",
        "    else:\n",
        "        return None\n",
        "\n",
        "# Replace 'your_api_key' with your actual News API key\n",
        "api_key = '4bf9811c99e84222af84958f1fc1175e'\n",
        "query = 'technology'\n",
        "article = fetch_news_article(api_key, query)\n",
        "print(\"Fetched Article:\\n\", article)\n"
      ]
    },
    {
      "cell_type": "code",
      "execution_count": null,
      "id": "d8a4c810-231f-4a50-94b0-4426ff65b0ab",
      "metadata": {
        "colab": {
          "base_uri": "https://localhost:8080/"
        },
        "id": "d8a4c810-231f-4a50-94b0-4426ff65b0ab",
        "outputId": "8c94e3ef-6aee-4edb-88ad-d5b4fd0814fc"
      },
      "outputs": [
        {
          "output_type": "stream",
          "name": "stdout",
          "text": [
            "SpaCy Entities:\n",
            " [('This Ancient Technology', 'ORG'), ('India', 'GPE')]\n"
          ]
        }
      ],
      "source": [
        "import spacy\n",
        "\n",
        "def extract_entities_spacy(text):\n",
        "    nlp = spacy.load(\"en_core_web_sm\")\n",
        "    doc = nlp(text)\n",
        "    entities = [(ent.text, ent.label_) for ent in doc.ents]\n",
        "    return entities\n",
        "\n",
        "spacy_entities = extract_entities_spacy(article)\n",
        "print(\"SpaCy Entities:\\n\", spacy_entities)\n"
      ]
    },
    {
      "cell_type": "code",
      "execution_count": null,
      "id": "6bee0091-fd3e-4b21-bf4d-2450c8bdc302",
      "metadata": {
        "colab": {
          "base_uri": "https://localhost:8080/"
        },
        "id": "6bee0091-fd3e-4b21-bf4d-2450c8bdc302",
        "outputId": "2502ec43-0242-4177-c7db-a705ca23bd24"
      },
      "outputs": [
        {
          "output_type": "stream",
          "name": "stderr",
          "text": [
            "[nltk_data] Downloading package punkt to /root/nltk_data...\n",
            "[nltk_data]   Package punkt is already up-to-date!\n",
            "[nltk_data] Downloading package maxent_ne_chunker to\n",
            "[nltk_data]     /root/nltk_data...\n",
            "[nltk_data]   Package maxent_ne_chunker is already up-to-date!\n",
            "[nltk_data] Downloading package words to /root/nltk_data...\n",
            "[nltk_data]   Package words is already up-to-date!\n",
            "[nltk_data] Downloading package averaged_perceptron_tagger to\n",
            "[nltk_data]     /root/nltk_data...\n",
            "[nltk_data]   Unzipping taggers/averaged_perceptron_tagger.zip.\n"
          ]
        },
        {
          "output_type": "stream",
          "name": "stdout",
          "text": [
            "NLTK Entities:\n",
            " [('Barack', 'PERSON'), ('Obama', 'PERSON'), ('United States', 'GPE'), ('Hawaii', 'GPE'), ('Harvard University', 'ORGANIZATION')]\n"
          ]
        }
      ],
      "source": [
        "import nltk\n",
        "from nltk import word_tokenize, pos_tag, ne_chunk\n",
        "\n",
        "# Download required NLTK resources\n",
        "nltk.download('punkt')\n",
        "nltk.download('maxent_ne_chunker')\n",
        "nltk.download('words')\n",
        "nltk.download('averaged_perceptron_tagger')\n",
        "\n",
        "def extract_entities_nltk(text):\n",
        "    tokens = word_tokenize(text)\n",
        "    pos_tags = pos_tag(tokens)\n",
        "    chunks = ne_chunk(pos_tags)\n",
        "    entities = []\n",
        "    for chunk in chunks:\n",
        "        if hasattr(chunk, 'label'):\n",
        "            entities.append((' '.join(c[0] for c in chunk), chunk.label()))\n",
        "    return entities\n",
        "\n",
        "# Example article text (you need to fetch or provide an actual news article)\n",
        "article = \"Barack Obama was the 44th President of the United States. He was born in Hawaii and graduated from Harvard University.\"\n",
        "\n",
        "nltk_entities = extract_entities_nltk(article)\n",
        "print(\"NLTK Entities:\\n\", nltk_entities)\n",
        "\n"
      ]
    },
    {
      "cell_type": "code",
      "execution_count": null,
      "id": "c48afcd6-edd6-4a1d-841b-7987dd7a24de",
      "metadata": {
        "colab": {
          "base_uri": "https://localhost:8080/"
        },
        "id": "c48afcd6-edd6-4a1d-841b-7987dd7a24de",
        "outputId": "7239af63-ea99-49a5-b32c-b8e35df1d7c7"
      },
      "outputs": [
        {
          "output_type": "stream",
          "name": "stdout",
          "text": [
            "Common Entities:\n",
            " set()\n",
            "Entities only in SpaCy:\n",
            " {('This Ancient Technology', 'ORG'), ('India', 'GPE')}\n",
            "Entities only in NLTK:\n",
            " {('Obama', 'PERSON'), ('United States', 'GPE'), ('Barack', 'PERSON'), ('Harvard University', 'ORGANIZATION'), ('Hawaii', 'GPE')}\n"
          ]
        }
      ],
      "source": [
        "def compare_entities(spacy_ents, nltk_ents):\n",
        "    spacy_set = set(spacy_ents)\n",
        "    nltk_set = set(nltk_ents)\n",
        "\n",
        "    common_entities = spacy_set & nltk_set\n",
        "    only_spacy = spacy_set - nltk_set\n",
        "    only_nltk = nltk_set - spacy_set\n",
        "\n",
        "    return common_entities, only_spacy, only_nltk\n",
        "\n",
        "common_entities, only_spacy, only_nltk = compare_entities(spacy_entities, nltk_entities)\n",
        "\n",
        "print(\"Common Entities:\\n\", common_entities)\n",
        "print(\"Entities only in SpaCy:\\n\", only_spacy)\n",
        "print(\"Entities only in NLTK:\\n\", only_nltk)\n"
      ]
    },
    {
      "cell_type": "code",
      "execution_count": null,
      "id": "89b3a6d4-fd9c-43bb-9bb3-ee4e18cd4a40",
      "metadata": {
        "id": "89b3a6d4-fd9c-43bb-9bb3-ee4e18cd4a40"
      },
      "outputs": [],
      "source": []
    }
  ],
  "metadata": {
    "kernelspec": {
      "display_name": "Python 3 (ipykernel)",
      "language": "python",
      "name": "python3"
    },
    "language_info": {
      "codemirror_mode": {
        "name": "ipython",
        "version": 3
      },
      "file_extension": ".py",
      "mimetype": "text/x-python",
      "name": "python",
      "nbconvert_exporter": "python",
      "pygments_lexer": "ipython3",
      "version": "3.11.7"
    },
    "colab": {
      "provenance": [],
      "include_colab_link": true
    }
  },
  "nbformat": 4,
  "nbformat_minor": 5
}